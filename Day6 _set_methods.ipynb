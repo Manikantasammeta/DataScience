{
  "cells": [
    {
      "cell_type": "code",
      "execution_count": null,
      "metadata": {
        "id": "Vii5CyQCZ5KD"
      },
      "outputs": [],
      "source": [
        "list1=[\"2020-10-12\",\"2023-10-13\",\"2023-10-08\"]"
      ]
    },
    {
      "cell_type": "code",
      "execution_count": null,
      "metadata": {
        "id": "00w5P1GkbN_U"
      },
      "outputs": [],
      "source": [
        "for i in list1:\n",
        "    print(i[-2:])"
      ]
    },
    {
      "cell_type": "code",
      "execution_count": null,
      "metadata": {
        "id": "YMmXNUYabiua"
      },
      "outputs": [],
      "source": [
        "for i in list1:\n",
        "    print(i.split(\"-\")[-1])"
      ]
    },
    {
      "cell_type": "code",
      "execution_count": null,
      "metadata": {
        "id": "iCon-2KFcJSl"
      },
      "outputs": [],
      "source": [
        "b=[]\n",
        "for i in list1:\n",
        "    b.append(i.split(\"-\")[-1])\n",
        "b\n"
      ]
    },
    {
      "cell_type": "code",
      "execution_count": null,
      "metadata": {
        "id": "lHDpr6QOcZfO"
      },
      "outputs": [],
      "source": [
        "l1=[1,2,3]\n",
        "l2=[\"a\",\"b\",\"c\"]\n",
        "list(zip(l1,l2))"
      ]
    },
    {
      "cell_type": "code",
      "execution_count": null,
      "metadata": {
        "id": "w7l0QdlgdCNv"
      },
      "outputs": [],
      "source": [
        "dict(list(zip(l1,l2)))"
      ]
    },
    {
      "cell_type": "code",
      "execution_count": null,
      "metadata": {
        "id": "zOCSSDxsc20x"
      },
      "outputs": [],
      "source": [
        "a=int(input(\"enter the number:\"))\n",
        "b=100\n",
        "c=b/a\n",
        "print(c)"
      ]
    },
    {
      "cell_type": "markdown",
      "metadata": {
        "id": "Btd9n-L7enPC"
      },
      "source": [
        "#exceptional handling\n",
        "1. try block\n",
        "2. except\n",
        "3. else\n",
        "4. finally block"
      ]
    },
    {
      "cell_type": "code",
      "execution_count": null,
      "metadata": {
        "id": "uugwl7UHeHHf"
      },
      "outputs": [],
      "source": [
        "try:\n",
        "    a=int(input(\"enter the number:\"))\n",
        "    b=100\n",
        "    c=b/a\n",
        "    print(c)\n",
        "except:\n",
        "    print(\"enter proper value greater zero\")"
      ]
    },
    {
      "cell_type": "code",
      "execution_count": null,
      "metadata": {
        "id": "qxzDn5ZmfINW"
      },
      "outputs": [],
      "source": [
        "try:\n",
        "    a=int(input(\"enter the number:\"))\n",
        "    b=100\n",
        "    c=b/a\n",
        "    print(c)\n",
        "except ValueError:\n",
        "    print(\"pls give int value\")\n",
        "except ZeroDivisionError:\n",
        "    print(\"enter proper value greater zero\")\n",
        "print(\"done\")"
      ]
    },
    {
      "cell_type": "code",
      "execution_count": null,
      "metadata": {
        "id": "pIIOt40lfxso"
      },
      "outputs": [],
      "source": [
        "try:\n",
        "    a=int(input(\"enter the number:\"))\n",
        "    b=100\n",
        "    c=b/a\n",
        "    print(c)\n",
        "except Exception as e:\n",
        "    print(e)\n",
        "print(\"done\")"
      ]
    },
    {
      "cell_type": "code",
      "execution_count": null,
      "metadata": {
        "id": "miJU6YP2gRc-"
      },
      "outputs": [],
      "source": [
        "try:\n",
        "    a=int(input(\"enter the number: \"))\n",
        "    b=100\n",
        "    c=b/a\n",
        "    print(c)\n",
        "except Exception as e:\n",
        "    print(e)\n",
        "else:\n",
        "    print(\"no error\")\n",
        "print(\"done\")"
      ]
    },
    {
      "cell_type": "code",
      "execution_count": null,
      "metadata": {
        "id": "XZn5eZe5g9fJ"
      },
      "outputs": [],
      "source": [
        "try:\n",
        "    a=int(input(\"enter the number: \"))\n",
        "    b=100\n",
        "    c=b/a\n",
        "    print(c)\n",
        "except Exception as e:\n",
        "    print(e)\n",
        "else:\n",
        "    print(\"no error\")\n",
        "finally:\n",
        "    print(\"successfully finished\")#--------------the boss"
      ]
    },
    {
      "cell_type": "code",
      "execution_count": null,
      "metadata": {
        "id": "-uy8mDsOhot2"
      },
      "outputs": [],
      "source": [
        "try:\n",
        "    a=int(input(\"enter the number: \"))\n",
        "    b=100\n",
        "    c=b/a\n",
        "    print(c)\n",
        "except Exception as e:\n",
        "    print(e)\n",
        "finally:\n",
        "    print(\"successfully finished\")"
      ]
    },
    {
      "cell_type": "markdown",
      "metadata": {
        "id": "eSjdaMGXiTm5"
      },
      "source": [
        "int, bool, float, str, list, tuple, range, dict, complex, set, frozenset"
      ]
    },
    {
      "cell_type": "code",
      "execution_count": null,
      "metadata": {
        "id": "oEGEubMFih1Q"
      },
      "outputs": [],
      "source": [
        "a=20"
      ]
    },
    {
      "cell_type": "code",
      "execution_count": null,
      "metadata": {
        "id": "g4schOPGi1vj"
      },
      "outputs": [],
      "source": [
        "mutable and immutable\n",
        "list        tuple, int, str, bool, float, complex, frozenset\n",
        "set\n",
        "dict\n"
      ]
    },
    {
      "cell_type": "code",
      "execution_count": null,
      "metadata": {
        "id": "bA_K2oULjauJ"
      },
      "outputs": [],
      "source": [
        "#set unordered, unchangeable, unindex, dot not allow duplicates values\n",
        "#set items or elements are any data types"
      ]
    },
    {
      "cell_type": "code",
      "execution_count": null,
      "metadata": {
        "id": "-qVGRSHhubWM"
      },
      "outputs": [],
      "source": [
        "1.add\n",
        "2.clear\n",
        "3. copy\n",
        "4. difference\n"
      ]
    },
    {
      "cell_type": "code",
      "execution_count": null,
      "metadata": {
        "id": "1-9xBTL2jrmQ"
      },
      "outputs": [],
      "source": [
        "#creating empty use below step\n",
        "set1={()}"
      ]
    },
    {
      "cell_type": "code",
      "execution_count": null,
      "metadata": {
        "id": "-zayTk-njxD-"
      },
      "outputs": [],
      "source": [
        "type(set1)"
      ]
    },
    {
      "cell_type": "code",
      "execution_count": null,
      "metadata": {
        "id": "2Tq6DVg5jybj"
      },
      "outputs": [],
      "source": [
        "set2={1,2,3,4,5,6,6,6}"
      ]
    },
    {
      "cell_type": "code",
      "execution_count": null,
      "metadata": {
        "id": "JGHIX3AMkBTa"
      },
      "outputs": [],
      "source": [
        "set2"
      ]
    },
    {
      "cell_type": "code",
      "execution_count": null,
      "metadata": {
        "id": "MQv9kK4BkE72"
      },
      "outputs": [],
      "source": [
        "set3={1,2,3,4,5,6,6,7,True}"
      ]
    },
    {
      "cell_type": "code",
      "execution_count": null,
      "metadata": {
        "id": "1FXoEIpmkcdP"
      },
      "outputs": [],
      "source": [
        "set3"
      ]
    },
    {
      "cell_type": "code",
      "execution_count": null,
      "metadata": {
        "id": "bTMQBCWWkdOl"
      },
      "outputs": [],
      "source": [
        "set4={1,2,3,4,5,\"t\",1.0,6,True,1+2j}"
      ]
    },
    {
      "cell_type": "code",
      "execution_count": null,
      "metadata": {
        "id": "MuPRaE7Lk7KX"
      },
      "outputs": [],
      "source": [
        "set4."
      ]
    },
    {
      "cell_type": "code",
      "execution_count": null,
      "metadata": {
        "id": "DRUS7JONk8N3"
      },
      "outputs": [],
      "source": [
        "set4.add(\"h\")\n",
        "\n",
        "# 1. example for Add\n",
        "\n",
        "my_set = {1, 2, 3}\n",
        "my_set.add(4)\n",
        "print(my_set) \n",
        " # Output: {1, 2, 3, 4}\n",
        "\n",
        "\n",
        " # 2. example for remove\n",
        " my_set = {1, 2, 3}\n",
        "my_set.remove(2)\n",
        "print(my_set)  \n",
        "# Output: {1, 3}\n",
        "\n",
        " # 3. example for pop\n",
        " my_set = {1, 2, 3}\n",
        "removed_element = my_set.pop()\n",
        "print(removed_element, my_set) \n",
        " # Output: (random element), {1, 2} (may vary)\n",
        "\n",
        " # 4. example for union\n",
        " set1 = {1, 2, 3}\n",
        "set2 = {3, 4, 5}\n",
        "union_set = set1.union(set2)\n",
        "print(union_set)  \n",
        "# Output: {1, 2, 3, 4, 5}\n",
        "\n",
        " # 5. example for intersection\n",
        " set1 = {1, 2, 3}\n",
        "set2 = {3, 4, 5}\n",
        "intersection_set = set1.intersection(set2)\n",
        "print(intersection_set) \n",
        " # Output: {3}\n",
        "\n",
        " # 6. example for diffrence\n",
        " set1 = {1, 2, 3}\n",
        "set2 = {3, 4, 5}\n",
        "difference_set = set1.difference(set2)\n",
        "print(difference_set)  \n",
        "# Output: {1, 2}\n",
        "\n",
        "\n",
        " # 7. example for issubset\n",
        " set1 = {1, 2}\n",
        "set2 = {1, 2, 3, 4}\n",
        "is_subset = set1.issubset(set2)\n",
        "print(is_subset) \n",
        " # Output: True\n",
        "\n",
        " # 8. example for issuperset\n",
        " set1 = {1, 2, 3, 4}\n",
        "set2 = {1, 2}\n",
        "is_superset = set1.issuperset(set2)\n",
        "print(is_superset) \n",
        " # Output: True\n",
        "\n",
        "\n",
        "  # 9. example for clear\n",
        "  my_set = {1, 2, 3}\n",
        "my_set.clear()\n",
        "print(my_set) \n",
        " # Output: set()\n",
        "\n",
        "\n",
        "  # 10. example for symmatric_difference\n",
        "  set1 = {1, 2, 3}\n",
        "set2 = {3, 4, 5}\n",
        "symmetric_diff_set = set1.symmetric_difference(set2)\n",
        "print(symmetric_diff_set) \n",
        " # Output: {1, 2, 4, 5}\n",
        "\n",
        "  # 11. example for symmatric_difference_update\n",
        "  set1 = {1, 2, 3}\n",
        "set2 = {3, 4, 5}\n",
        "set1.symmetric_difference_update(set2)\n",
        "print(set1)\n",
        "  # Output: {1, 2, 4, 5}\n",
        "\n",
        "\n",
        "\n",
        "  # 12. example for intersection_update\n",
        "\n",
        "    set1 = {1, 2, 3}\n",
        "set2 = {3, 4, 5}\n",
        "set1.intersection_update(set2)\n",
        "print(set1)  \n",
        "# Output: {3}\n",
        "\n",
        "  # 12. example for difference_update\n",
        "\n",
        "  set1 = {1, 2, 3}\n",
        "set2 = {3, 4, 5}\n",
        "set1.difference_update(set2)\n",
        "print(set1) \n",
        " # Output: {1, 2}\n",
        "\n",
        " # 13 example for disjoin\n",
        " set1 = {1, 2, 3}\n",
        "set2 = {4, 5, 6}\n",
        "disjoint = set1.isdisjoint(set2)\n",
        "print(disjoint) \n",
        " # Output: True\n",
        "\n",
        "\n",
        "\n",
        "\n",
        "\n",
        "\n",
        "\n",
        "\n",
        "\n"
      ]
    },
    {
      "cell_type": "code",
      "execution_count": null,
      "metadata": {
        "id": "iK6eNtfHlU3P"
      },
      "outputs": [],
      "source": [
        "set4"
      ]
    },
    {
      "cell_type": "code",
      "execution_count": null,
      "metadata": {
        "id": "W071g66vlg6f"
      },
      "outputs": [],
      "source": [
        "set4.clear()"
      ]
    },
    {
      "cell_type": "code",
      "execution_count": null,
      "metadata": {
        "id": "loBeE95TmD80"
      },
      "outputs": [],
      "source": [
        "set4."
      ]
    },
    {
      "cell_type": "code",
      "execution_count": null,
      "metadata": {
        "id": "lamGFbGWmE7V"
      },
      "outputs": [],
      "source": [
        "set5=set4.copy()"
      ]
    },
    {
      "cell_type": "code",
      "execution_count": null,
      "metadata": {
        "id": "gNgGEMipmXwZ"
      },
      "outputs": [],
      "source": [
        "set5"
      ]
    },
    {
      "cell_type": "code",
      "execution_count": null,
      "metadata": {
        "id": "18-GPL5YmY0F"
      },
      "outputs": [],
      "source": [
        "id(set4)"
      ]
    },
    {
      "cell_type": "code",
      "execution_count": null,
      "metadata": {
        "id": "fq-ZJPDsma57"
      },
      "outputs": [],
      "source": [
        "id(set5)"
      ]
    },
    {
      "cell_type": "code",
      "execution_count": null,
      "metadata": {
        "id": "ZT9eXSN0mc3z"
      },
      "outputs": [],
      "source": [
        "set3"
      ]
    },
    {
      "cell_type": "code",
      "execution_count": null,
      "metadata": {
        "id": "dVWZAed7mpHB"
      },
      "outputs": [],
      "source": [
        "set4"
      ]
    },
    {
      "cell_type": "code",
      "execution_count": null,
      "metadata": {
        "id": "uZJ_0sswmpy7"
      },
      "outputs": [],
      "source": [
        "z=set3.difference(set4)"
      ]
    },
    {
      "cell_type": "code",
      "execution_count": null,
      "metadata": {
        "id": "Y-UY-sNZm3qh"
      },
      "outputs": [],
      "source": [
        "z"
      ]
    },
    {
      "cell_type": "code",
      "execution_count": null,
      "metadata": {
        "id": "rimDdgclm4aK"
      },
      "outputs": [],
      "source": [
        "y=set4.difference(set3)"
      ]
    },
    {
      "cell_type": "code",
      "execution_count": null,
      "metadata": {
        "id": "8SDLriNLnO4T"
      },
      "outputs": [],
      "source": [
        "y."
      ]
    },
    {
      "cell_type": "code",
      "execution_count": null,
      "metadata": {
        "id": "viwLA_ZjnZIu"
      },
      "outputs": [],
      "source": [
        "set3"
      ]
    },
    {
      "cell_type": "code",
      "execution_count": null,
      "metadata": {
        "id": "961fucX6naco"
      },
      "outputs": [],
      "source": [
        "set4"
      ]
    },
    {
      "cell_type": "code",
      "execution_count": null,
      "metadata": {
        "id": "TV6k_n46nbJQ"
      },
      "outputs": [],
      "source": [
        "set3.difference_update(set4)"
      ]
    },
    {
      "cell_type": "code",
      "execution_count": null,
      "metadata": {
        "id": "4cx3vvFEni9Y"
      },
      "outputs": [],
      "source": [
        "set3"
      ]
    },
    {
      "cell_type": "code",
      "execution_count": null,
      "metadata": {
        "id": "y573-jwBnplD"
      },
      "outputs": [],
      "source": [
        "set4."
      ]
    },
    {
      "cell_type": "code",
      "execution_count": null,
      "metadata": {
        "id": "KHjNP6ZJn0ob"
      },
      "outputs": [],
      "source": [
        "?set4.discard"
      ]
    },
    {
      "cell_type": "code",
      "execution_count": null,
      "metadata": {
        "id": "hZXOK6L-n6Oo"
      },
      "outputs": [],
      "source": [
        "set4.discard(1) #it must be element otherwise no error"
      ]
    },
    {
      "cell_type": "code",
      "execution_count": null,
      "metadata": {
        "id": "TFWa_YKuoAWO"
      },
      "outputs": [],
      "source": [
        "set4"
      ]
    },
    {
      "cell_type": "code",
      "execution_count": null,
      "metadata": {
        "id": "jXL5y-cmoBPF"
      },
      "outputs": [],
      "source": [
        "set3"
      ]
    },
    {
      "cell_type": "code",
      "execution_count": null,
      "metadata": {
        "id": "klPm5rYzowgF"
      },
      "outputs": [],
      "source": [
        "set6"
      ]
    },
    {
      "cell_type": "code",
      "execution_count": null,
      "metadata": {
        "id": "lDntNvivoLrM"
      },
      "outputs": [],
      "source": [
        "set6= set3.intersection(set4)#it creates new set fetching matching items"
      ]
    },
    {
      "cell_type": "code",
      "execution_count": null,
      "metadata": {
        "id": "rktkreyAoKct"
      },
      "outputs": [],
      "source": [
        "set4.update"
      ]
    },
    {
      "cell_type": "code",
      "execution_count": null,
      "metadata": {
        "id": "puJiTkxBpQAO"
      },
      "outputs": [],
      "source": [
        "set4.intersection_update(set3)#it remove the itmes is not present in both sets it is updated original set"
      ]
    },
    {
      "cell_type": "code",
      "execution_count": null,
      "metadata": {
        "id": "34uGJ096pVXO"
      },
      "outputs": [],
      "source": [
        "set7={\"1\",\"5\"}"
      ]
    },
    {
      "cell_type": "code",
      "execution_count": null,
      "metadata": {
        "id": "2tMaCZPGpWC-"
      },
      "outputs": [],
      "source": [
        "?set4.isdisjoint"
      ]
    },
    {
      "cell_type": "code",
      "execution_count": null,
      "metadata": {
        "id": "ubxiFdJ7qA9v"
      },
      "outputs": [],
      "source": [
        "#isdisjoint\n",
        "set3.isdisjoint(set7)"
      ]
    },
    {
      "cell_type": "code",
      "execution_count": null,
      "metadata": {
        "id": "jr_EfHKmqU4K"
      },
      "outputs": [],
      "source": [
        "set3"
      ]
    },
    {
      "cell_type": "code",
      "execution_count": null,
      "metadata": {
        "id": "fVROzpgnrDnV"
      },
      "outputs": [],
      "source": [
        "set4."
      ]
    },
    {
      "cell_type": "code",
      "execution_count": null,
      "metadata": {
        "id": "MCc0cOhPrE0G"
      },
      "outputs": [],
      "source": [
        "z=set4.issubset(set3)#bollean output true or false"
      ]
    },
    {
      "cell_type": "code",
      "execution_count": null,
      "metadata": {
        "id": "U7kvCVyerMTH"
      },
      "outputs": [],
      "source": [
        "z"
      ]
    },
    {
      "cell_type": "code",
      "execution_count": null,
      "metadata": {
        "id": "QqpFAxxYrNMN"
      },
      "outputs": [],
      "source": [
        "set3.issuperset(set4)#bollean output true or false"
      ]
    },
    {
      "cell_type": "code",
      "execution_count": null,
      "metadata": {
        "id": "e3OmqdSDroVc"
      },
      "outputs": [],
      "source": [
        "set4.pop()#remove item from left to right"
      ]
    },
    {
      "cell_type": "code",
      "execution_count": null,
      "metadata": {
        "id": "Mp944GDQrqoF"
      },
      "outputs": [],
      "source": [
        "set4."
      ]
    },
    {
      "cell_type": "code",
      "execution_count": null,
      "metadata": {
        "id": "-EiLp2Rhr4lX"
      },
      "outputs": [],
      "source": [
        "set4.remove(7)#remove specific element must be elemnt otherwise error"
      ]
    },
    {
      "cell_type": "code",
      "execution_count": null,
      "metadata": {
        "id": "ThMTeE1_sA2B"
      },
      "outputs": [],
      "source": [
        "set4"
      ]
    },
    {
      "cell_type": "code",
      "execution_count": null,
      "metadata": {
        "id": "rq3_cYW5sB7P"
      },
      "outputs": [],
      "source": [
        "#union"
      ]
    },
    {
      "cell_type": "code",
      "execution_count": null,
      "metadata": {
        "id": "zsjvL6ovtQ8H"
      },
      "outputs": [],
      "source": [
        "set3"
      ]
    },
    {
      "cell_type": "code",
      "execution_count": null,
      "metadata": {
        "id": "VItNHG3ZtRyh"
      },
      "outputs": [],
      "source": [
        "set4"
      ]
    },
    {
      "cell_type": "code",
      "execution_count": null,
      "metadata": {
        "id": "a0gz9TlOtShh"
      },
      "outputs": [],
      "source": [
        "t=set3.union(set4)"
      ]
    },
    {
      "cell_type": "code",
      "execution_count": null,
      "metadata": {
        "id": "GjRHZUvbtYgl"
      },
      "outputs": [],
      "source": [
        "?t.symmetric_difference"
      ]
    },
    {
      "cell_type": "code",
      "execution_count": null,
      "metadata": {
        "id": "fbZbNUfCtZJz"
      },
      "outputs": [],
      "source": [
        "u=set3.symmetric_difference(set4)#here it will create new set which remove both set common item"
      ]
    },
    {
      "cell_type": "code",
      "execution_count": null,
      "metadata": {
        "id": "PjWW5QoqtpwN"
      },
      "outputs": [],
      "source": [
        "u"
      ]
    },
    {
      "cell_type": "code",
      "execution_count": null,
      "metadata": {
        "id": "d7WEe9jstqhl"
      },
      "outputs": [],
      "source": [
        "set3.symmetric_difference_update(set4)#here it will update original set which remove both set common item"
      ]
    },
    {
      "cell_type": "code",
      "execution_count": null,
      "metadata": {
        "id": "zLaOhONauDuU"
      },
      "outputs": [],
      "source": [
        "set3"
      ]
    },
    {
      "cell_type": "code",
      "execution_count": null,
      "metadata": {
        "id": "_5NJAwT6uEdn"
      },
      "outputs": [],
      "source": [
        "#updation\n",
        "set3.update(set4)"
      ]
    },
    {
      "cell_type": "code",
      "execution_count": null,
      "metadata": {
        "id": "wBRRG-SGu_Qj"
      },
      "outputs": [],
      "source": [
        "set3={1,2,3,5,8,9}"
      ]
    },
    {
      "cell_type": "code",
      "execution_count": null,
      "metadata": {
        "id": "hr9LyQwevAcY"
      },
      "outputs": [],
      "source": [
        "set3"
      ]
    },
    {
      "cell_type": "code",
      "execution_count": null,
      "metadata": {
        "id": "4ptlQQYKvB9S"
      },
      "outputs": [],
      "source": [
        "#index\n",
        "set3"
      ]
    },
    {
      "cell_type": "code",
      "execution_count": null,
      "metadata": {
        "id": "3stSDG87vUXs"
      },
      "outputs": [],
      "source": [
        "set3[1]"
      ]
    },
    {
      "cell_type": "code",
      "execution_count": null,
      "metadata": {
        "id": "k8Uvl2c5vYAd"
      },
      "outputs": [],
      "source": [
        "set3[3]=\"7\""
      ]
    },
    {
      "cell_type": "code",
      "execution_count": null,
      "metadata": {
        "id": "IW6wcv4yvcch"
      },
      "outputs": [],
      "source": [
        "#frozenset ----------->immuatable\n",
        "#Syntax: frozenset([Iterable])"
      ]
    },
    {
      "cell_type": "code",
      "execution_count": null,
      "metadata": {
        "id": "bl4cluNYwr5f"
      },
      "outputs": [],
      "source": [
        "set3"
      ]
    },
    {
      "cell_type": "code",
      "execution_count": null,
      "metadata": {
        "id": "W_1RJFHHwtSM"
      },
      "outputs": [],
      "source": [
        "q=frozenset(set3)"
      ]
    },
    {
      "cell_type": "code",
      "execution_count": null,
      "metadata": {
        "id": "niSany5rwx9m"
      },
      "outputs": [],
      "source": [
        "type(q)"
      ]
    },
    {
      "cell_type": "code",
      "execution_count": null,
      "metadata": {
        "id": "I_CA7-5cxigu"
      },
      "outputs": [],
      "source": [
        "q."
      ]
    },
    {
      "cell_type": "code",
      "execution_count": null,
      "metadata": {
        "id": "Cvu38xWQw2ma"
      },
      "outputs": [],
      "source": [
        "q.add[\"v\"]"
      ]
    },
    {
      "cell_type": "markdown",
      "metadata": {
        "id": "kv2MK2X-1NT5"
      },
      "source": []
    },
    {
      "cell_type": "code",
      "execution_count": null,
      "metadata": {
        "id": "fd_gaD1zxHb8"
      },
      "outputs": [],
      "source": [
        "dict1={\"1\":1,\"2\":2}"
      ]
    },
    {
      "cell_type": "code",
      "execution_count": null,
      "metadata": {
        "id": "CUfsHOuvxWxh"
      },
      "outputs": [],
      "source": [
        "#copy, difference, intersection, symetric_difference, union, issuperset, issubset, isdisjoint"
      ]
    },
    {
      "cell_type": "code",
      "execution_count": null,
      "metadata": {
        "id": "lLmTJposxUGl"
      },
      "outputs": [],
      "source": [
        "frozenset(dict1)"
      ]
    },
    {
      "cell_type": "code",
      "execution_count": null,
      "metadata": {
        "id": "-PGFryoK1Ni6"
      },
      "outputs": [],
      "source": [
        "t1=(1,3,2,1,4,5)"
      ]
    },
    {
      "cell_type": "code",
      "execution_count": null,
      "metadata": {
        "id": "N1Ei8Ply1YmM"
      },
      "outputs": [],
      "source": [
        "sorted(t1, reverse=True)"
      ]
    },
    {
      "cell_type": "code",
      "execution_count": null,
      "metadata": {
        "id": "_Tia_u_r1fbs"
      },
      "outputs": [],
      "source": [
        "#sort is a method (list, string) it will chnage origial datatype\n",
        "#sorted is function() it is cerated new data type"
      ]
    },
    {
      "cell_type": "code",
      "execution_count": null,
      "metadata": {
        "id": "qQXG9Hj32DIw"
      },
      "outputs": [],
      "source": [
        "#built in function\n",
        "#1. all"
      ]
    },
    {
      "cell_type": "code",
      "execution_count": null,
      "metadata": {
        "id": "ccH9jRTy2H7p"
      },
      "outputs": [],
      "source": [
        "?all"
      ]
    },
    {
      "cell_type": "code",
      "execution_count": null,
      "metadata": {
        "id": "9PHCQpxX2QFT"
      },
      "outputs": [],
      "source": [
        "all(t1)"
      ]
    },
    {
      "cell_type": "code",
      "execution_count": null,
      "metadata": {
        "id": "Hg1THo7a2JeL"
      },
      "outputs": [],
      "source": [
        "all([ ])"
      ]
    },
    {
      "cell_type": "code",
      "execution_count": null,
      "metadata": {
        "id": "k9ZN_OiA2Tmt"
      },
      "outputs": [],
      "source": [
        "all([True,False])"
      ]
    },
    {
      "cell_type": "code",
      "execution_count": null,
      "metadata": {
        "id": "3fU5GU4n3OKO"
      },
      "outputs": [],
      "source": [
        "divmod(4,2)#otput is (floor division, quetint)"
      ]
    },
    {
      "cell_type": "code",
      "execution_count": null,
      "metadata": {
        "id": "zRL6O3xN2roT"
      },
      "outputs": [],
      "source": [
        "any([True,False])"
      ]
    },
    {
      "cell_type": "code",
      "execution_count": null,
      "metadata": {
        "id": "sHIDdN8P2yyA"
      },
      "outputs": [],
      "source": [
        "any([False,False])"
      ]
    },
    {
      "cell_type": "code",
      "execution_count": null,
      "metadata": {
        "id": "5HJNXNAO2mZM"
      },
      "outputs": [],
      "source": [
        "all([1,0])"
      ]
    },
    {
      "cell_type": "code",
      "execution_count": null,
      "metadata": {
        "id": "fhC7KgOr3zYo"
      },
      "outputs": [],
      "source": [
        "round(1.2)"
      ]
    },
    {
      "cell_type": "code",
      "execution_count": null,
      "metadata": {
        "id": "PkVLzFjQ324j"
      },
      "outputs": [],
      "source": [
        "round(1.6)"
      ]
    },
    {
      "cell_type": "code",
      "execution_count": null,
      "metadata": {
        "id": "VpgIGuTX48Ae"
      },
      "outputs": [],
      "source": [
        "#operators\n",
        "1. arithemetic\n",
        "+,-,*,/,%,//,**"
      ]
    },
    {
      "cell_type": "code",
      "execution_count": null,
      "metadata": {
        "id": "wlq09ZQb5ENm"
      },
      "outputs": [],
      "source": [
        "1+2"
      ]
    },
    {
      "cell_type": "code",
      "execution_count": null,
      "metadata": {
        "id": "3990U4G_5JQn"
      },
      "outputs": [],
      "source": [
        "\"q\"+\"2\""
      ]
    },
    {
      "cell_type": "code",
      "execution_count": null,
      "metadata": {
        "id": "Xkc_AgU_5Ofv"
      },
      "outputs": [],
      "source": [
        "\"w\"+1"
      ]
    },
    {
      "cell_type": "code",
      "execution_count": null,
      "metadata": {
        "id": "GCZFk8_S5STF"
      },
      "outputs": [],
      "source": [
        "int+float=float\n",
        "complex+complex=complex\n",
        "comple+float=complex\n",
        "int+complex=complex\n",
        "int+boolean=int\n",
        "boolean+boolean=int\n",
        "str+str=str\n",
        "int+int=int\n",
        "list+list=list\n",
        "tple+tple=tuple\n",
        "set+set (we cant add)"
      ]
    },
    {
      "cell_type": "code",
      "execution_count": null,
      "metadata": {
        "id": "P2y_dfy-6C62"
      },
      "outputs": [],
      "source": [
        "{1,2}+{1,2}"
      ]
    },
    {
      "cell_type": "code",
      "execution_count": null,
      "metadata": {
        "id": "MdfCid805osX"
      },
      "outputs": [],
      "source": [
        "True+False"
      ]
    },
    {
      "cell_type": "code",
      "execution_count": null,
      "metadata": {
        "id": "a__IsCcn5eD4"
      },
      "outputs": [],
      "source": [
        "2+True"
      ]
    },
    {
      "cell_type": "code",
      "execution_count": null,
      "metadata": {
        "id": "0vYgtVgN5zv0"
      },
      "outputs": [],
      "source": [
        "[\"s\"]+[\"e\"]"
      ]
    },
    {
      "cell_type": "code",
      "execution_count": null,
      "metadata": {
        "id": "QCFpAuNr6MOL"
      },
      "outputs": [],
      "source": [
        "[\"s\"]+(\"e\")"
      ]
    },
    {
      "cell_type": "code",
      "execution_count": null,
      "metadata": {
        "id": "ppqiPejz6Rx6"
      },
      "outputs": [],
      "source": [
        "(1,)+(2,)"
      ]
    },
    {
      "cell_type": "code",
      "execution_count": null,
      "metadata": {
        "id": "DzbZpYS06WQR"
      },
      "outputs": [],
      "source": [
        "{1:1}+{2:2}"
      ]
    },
    {
      "cell_type": "code",
      "execution_count": null,
      "metadata": {
        "id": "aL_lF4Mr6bXa"
      },
      "outputs": [],
      "source": [
        "2+2j+1+1j"
      ]
    },
    {
      "cell_type": "code",
      "execution_count": null,
      "metadata": {
        "id": "cMn3hT5F6-ef"
      },
      "outputs": [],
      "source": [
        "1+1j+\"w\""
      ]
    },
    {
      "cell_type": "code",
      "execution_count": null,
      "metadata": {
        "id": "1MON7AG17GNi"
      },
      "outputs": [],
      "source": [
        "a=30\n",
        "b=20"
      ]
    },
    {
      "cell_type": "code",
      "execution_count": null,
      "metadata": {
        "id": "t5N9k9de7TjK"
      },
      "outputs": [],
      "source": [
        "a-b"
      ]
    },
    {
      "cell_type": "code",
      "execution_count": null,
      "metadata": {
        "id": "qCzu3oDC7VBY"
      },
      "outputs": [],
      "source": [
        "list-list"
      ]
    },
    {
      "cell_type": "code",
      "execution_count": null,
      "metadata": {
        "id": "uKvF0Dcb7av9"
      },
      "outputs": [],
      "source": [
        "[1,2]-[1,2]"
      ]
    },
    {
      "cell_type": "code",
      "execution_count": null,
      "metadata": {
        "id": "YVWoLlFK7djT"
      },
      "outputs": [],
      "source": [
        "True-False"
      ]
    },
    {
      "cell_type": "code",
      "execution_count": null,
      "metadata": {
        "id": "P2E55nAj7naX"
      },
      "outputs": [],
      "source": [
        "#* multiplication\n"
      ]
    },
    {
      "cell_type": "code",
      "execution_count": null,
      "metadata": {
        "id": "StMKp5767tzD"
      },
      "outputs": [],
      "source": [
        "a*b"
      ]
    },
    {
      "cell_type": "code",
      "execution_count": null,
      "metadata": {
        "id": "ElPexw9f7vAB"
      },
      "outputs": [],
      "source": [
        "int*int\n",
        "str*str(not)\n",
        "float*float\n",
        "boolean*boolean\n",
        "str*int\n",
        "str*float\n"
      ]
    },
    {
      "cell_type": "code",
      "execution_count": null,
      "metadata": {
        "id": "ZlrWM7cJ8Q7S"
      },
      "outputs": [],
      "source": [
        "(2+2j)*(2+2j)# j^2=-1"
      ]
    },
    {
      "cell_type": "code",
      "execution_count": null,
      "metadata": {
        "id": "_fyYLldu7-2k"
      },
      "outputs": [],
      "source": [
        "\"ganesh\"*6"
      ]
    },
    {
      "cell_type": "code",
      "execution_count": null,
      "metadata": {
        "id": "OAT76YjC8BKy"
      },
      "outputs": [],
      "source": [
        "True*True"
      ]
    },
    {
      "cell_type": "code",
      "execution_count": null,
      "metadata": {
        "id": "7PNVRAIg8H5Y"
      },
      "outputs": [],
      "source": [
        "\"ganesh\"*6.2"
      ]
    },
    {
      "cell_type": "code",
      "execution_count": null,
      "metadata": {
        "id": "IiIojjTj8ptg"
      },
      "outputs": [],
      "source": [
        "list*list"
      ]
    },
    {
      "cell_type": "code",
      "execution_count": null,
      "metadata": {
        "id": "nSnondnE8uK8"
      },
      "outputs": [],
      "source": [
        "[1,2,3]*[1,2,3]"
      ]
    },
    {
      "cell_type": "code",
      "execution_count": null,
      "metadata": {
        "id": "m8cVBU7w86xG"
      },
      "outputs": [],
      "source": [
        "list*int"
      ]
    },
    {
      "cell_type": "code",
      "execution_count": null,
      "metadata": {
        "id": "n8Nj3TVX89yW"
      },
      "outputs": [],
      "source": [
        "list*complex"
      ]
    },
    {
      "cell_type": "code",
      "execution_count": null,
      "metadata": {
        "id": "STgP0YI_9BEs"
      },
      "outputs": [],
      "source": [
        "[1,2,3]*(2+2j)"
      ]
    },
    {
      "cell_type": "code",
      "execution_count": null,
      "metadata": {
        "id": "CjQJhqN99Dv7"
      },
      "outputs": [],
      "source": [
        "/,%,//\n"
      ]
    },
    {
      "cell_type": "code",
      "execution_count": null,
      "metadata": {
        "id": "efSSMG1Y9TZs"
      },
      "outputs": [],
      "source": [
        "int**int"
      ]
    },
    {
      "cell_type": "code",
      "execution_count": null,
      "metadata": {
        "id": "Iu4JXQ1P9WMX"
      },
      "outputs": [],
      "source": [
        "complex**complex"
      ]
    },
    {
      "cell_type": "code",
      "execution_count": null,
      "metadata": {
        "id": "8ICmMa_f9Ytt"
      },
      "outputs": [],
      "source": [
        "(2+2j)**(2+2j)"
      ]
    },
    {
      "cell_type": "code",
      "execution_count": null,
      "metadata": {
        "id": "9_izHEFq9b20"
      },
      "outputs": [],
      "source": [
        "(2+2j)/(2+2j)"
      ]
    },
    {
      "cell_type": "code",
      "execution_count": null,
      "metadata": {
        "id": "j98zThtj9g6O"
      },
      "outputs": [],
      "source": [
        "(2+2j)%(2+2j)"
      ]
    },
    {
      "cell_type": "code",
      "execution_count": null,
      "metadata": {
        "id": "X21uf6kW9jey"
      },
      "outputs": [],
      "source": [
        "#relational conditional\n",
        "==,>,<,!=,>=,<="
      ]
    },
    {
      "cell_type": "code",
      "execution_count": null,
      "metadata": {
        "id": "wHzX_cCl99nZ"
      },
      "outputs": [],
      "source": [
        "a"
      ]
    },
    {
      "cell_type": "code",
      "execution_count": null,
      "metadata": {
        "id": "WvW6LtPP-A1G"
      },
      "outputs": [],
      "source": [
        "b"
      ]
    },
    {
      "cell_type": "code",
      "execution_count": null,
      "metadata": {
        "id": "IFTsAHWY-BOz"
      },
      "outputs": [],
      "source": [
        "a==b"
      ]
    },
    {
      "cell_type": "code",
      "execution_count": null,
      "metadata": {
        "id": "Y1azgemy-DPl"
      },
      "outputs": [],
      "source": [
        "a>b"
      ]
    },
    {
      "cell_type": "code",
      "execution_count": null,
      "metadata": {
        "id": "EMTpQVJ2-Gsv"
      },
      "outputs": [],
      "source": [
        "a<b"
      ]
    },
    {
      "cell_type": "code",
      "execution_count": null,
      "metadata": {
        "id": "v3kNWvgD-IGy"
      },
      "outputs": [],
      "source": [
        "a!=b"
      ]
    },
    {
      "cell_type": "code",
      "execution_count": null,
      "metadata": {
        "id": "ML5L9UVj-KLN"
      },
      "outputs": [],
      "source": [
        "a<=b"
      ]
    },
    {
      "cell_type": "code",
      "execution_count": null,
      "metadata": {
        "id": "tj7NlxVt-MjO"
      },
      "outputs": [],
      "source": [
        "a>=b"
      ]
    },
    {
      "cell_type": "code",
      "execution_count": null,
      "metadata": {
        "id": "JVrnm2Do-Qcp"
      },
      "outputs": [],
      "source": [
        "a,b=30,30"
      ]
    },
    {
      "cell_type": "code",
      "execution_count": null,
      "metadata": {
        "id": "WTZdbuNu-Yg8"
      },
      "outputs": [],
      "source": [
        "a!=b"
      ]
    },
    {
      "cell_type": "code",
      "execution_count": null,
      "metadata": {
        "id": "J__YHGt0-l-p"
      },
      "outputs": [],
      "source": [
        "#Assignment operotor"
      ]
    },
    {
      "cell_type": "code",
      "execution_count": null,
      "metadata": {
        "id": "nZu0BVLz-tiU"
      },
      "outputs": [],
      "source": [
        "a"
      ]
    },
    {
      "cell_type": "code",
      "execution_count": null,
      "metadata": {
        "id": "8nAtV1Ud-uvb"
      },
      "outputs": [],
      "source": [
        "c=a"
      ]
    },
    {
      "cell_type": "code",
      "execution_count": null,
      "metadata": {
        "id": "3fwkM0Mo-xpq"
      },
      "outputs": [],
      "source": [
        "c"
      ]
    },
    {
      "cell_type": "code",
      "execution_count": null,
      "metadata": {
        "id": "ch9Qow4j-zHr"
      },
      "outputs": [],
      "source": [
        "a=a+1#a+=1"
      ]
    },
    {
      "cell_type": "code",
      "execution_count": null,
      "metadata": {
        "id": "bP6UtCBg-4Os"
      },
      "outputs": [],
      "source": [
        "a"
      ]
    },
    {
      "cell_type": "code",
      "execution_count": null,
      "metadata": {
        "id": "Bbo4x05--488"
      },
      "outputs": [],
      "source": [
        "a+=1"
      ]
    },
    {
      "cell_type": "code",
      "execution_count": null,
      "metadata": {
        "id": "x9lOC9yv-94J"
      },
      "outputs": [],
      "source": [
        "a"
      ]
    },
    {
      "cell_type": "code",
      "execution_count": null,
      "metadata": {
        "id": "LPtdgreu--xQ"
      },
      "outputs": [],
      "source": [
        "a=a-1#a-=1"
      ]
    },
    {
      "cell_type": "code",
      "execution_count": null,
      "metadata": {
        "id": "Toq1Bfox_A0P"
      },
      "outputs": [],
      "source": [
        "a*=2"
      ]
    },
    {
      "cell_type": "code",
      "execution_count": null,
      "metadata": {
        "id": "XWyICPmX_SrQ"
      },
      "outputs": [],
      "source": [
        "a/=30"
      ]
    },
    {
      "cell_type": "code",
      "execution_count": null,
      "metadata": {
        "id": "OcB8XCuU_Uii"
      },
      "outputs": [],
      "source": [
        "a"
      ]
    },
    {
      "cell_type": "code",
      "execution_count": null,
      "metadata": {
        "id": "urTPi8CD_VQu"
      },
      "outputs": [],
      "source": [
        "a//=1"
      ]
    },
    {
      "cell_type": "code",
      "execution_count": null,
      "metadata": {
        "id": "sbaryLnj_Y6p"
      },
      "outputs": [],
      "source": [
        "a"
      ]
    },
    {
      "cell_type": "code",
      "execution_count": null,
      "metadata": {
        "id": "UR3VpdKW_Zss"
      },
      "outputs": [],
      "source": [
        "a%=1"
      ]
    },
    {
      "cell_type": "code",
      "execution_count": null,
      "metadata": {
        "id": "2pjQbCsl_cg5"
      },
      "outputs": [],
      "source": [
        "a"
      ]
    },
    {
      "cell_type": "code",
      "execution_count": null,
      "metadata": {
        "id": "lG7aK5Ho_dPn"
      },
      "outputs": [],
      "source": [
        "a**=2"
      ]
    },
    {
      "cell_type": "markdown",
      "metadata": {
        "id": "oCrUl6fKANly"
      },
      "source": [
        "# Logicla opearotes are and, or, not"
      ]
    },
    {
      "cell_type": "code",
      "execution_count": null,
      "metadata": {
        "id": "fuAZDmQZ_ml4"
      },
      "outputs": [],
      "source": [
        "a=12\n",
        "b=2\n",
        "if a==12 and b==3:\n",
        "    print(\"hi\")\n",
        "else:\n",
        "    print(\"not matching with seven\")"
      ]
    },
    {
      "cell_type": "code",
      "execution_count": null,
      "metadata": {
        "id": "lyvokN1lBI_4"
      },
      "outputs": [],
      "source": [
        "a=12\n",
        "b=2\n",
        "if a not b:\n",
        "    print(\"hi\")\n",
        "else:\n",
        "    print(\"not matching with seven\")"
      ]
    },
    {
      "cell_type": "code",
      "execution_count": null,
      "metadata": {
        "id": "K5396Xq7BxrT"
      },
      "outputs": [],
      "source": [
        "a = 10\n",
        "\n",
        "if not a:\n",
        "\tprint(\"Boolean value of a is True\")\n",
        "else:\n",
        "\tprint(\"10 is divisible by either 3 or 5\")\n"
      ]
    },
    {
      "cell_type": "code",
      "execution_count": null,
      "metadata": {
        "id": "HiA6MFYzCBb2"
      },
      "outputs": [],
      "source": []
    }
  ],
  "metadata": {
    "colab": {
      "private_outputs": true,
      "provenance": []
    },
    "kernelspec": {
      "display_name": "Python 3",
      "name": "python3"
    },
    "language_info": {
      "name": "python"
    }
  },
  "nbformat": 4,
  "nbformat_minor": 0
}
